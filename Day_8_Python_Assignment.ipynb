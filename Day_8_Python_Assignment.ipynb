{
  "nbformat": 4,
  "nbformat_minor": 0,
  "metadata": {
    "colab": {
      "name": "Day_8_Python_Assignment.ipynb",
      "provenance": [],
      "authorship_tag": "ABX9TyOJ9X9TL747nyvC5S88D0oT",
      "include_colab_link": true
    },
    "kernelspec": {
      "name": "python3",
      "display_name": "Python 3"
    }
  },
  "cells": [
    {
      "cell_type": "markdown",
      "metadata": {
        "id": "view-in-github",
        "colab_type": "text"
      },
      "source": [
        "<a href=\"https://colab.research.google.com/github/sanjusriram16/Assignment_PythonEssentials_LetsUpgrade/blob/main/Day_8_Python_Assignment.ipynb\" target=\"_parent\"><img src=\"https://colab.research.google.com/assets/colab-badge.svg\" alt=\"Open In Colab\"/></a>"
      ]
    },
    {
      "cell_type": "code",
      "metadata": {
        "colab": {
          "base_uri": "https://localhost:8080/"
        },
        "id": "QRcijKW5h5lo",
        "outputId": "83c2a3ce-9184-4714-eb39-1348b014b870"
      },
      "source": [
        "!pip install firebase"
      ],
      "execution_count": 1,
      "outputs": [
        {
          "output_type": "stream",
          "text": [
            "Collecting firebase\n",
            "  Downloading https://files.pythonhosted.org/packages/f8/33/6b2a24e349563f2d279ccc8321f26a9c0d6d2f8205adb68f3046c3ec7a89/firebase-3.0.1-py3-none-any.whl\n",
            "Requirement already satisfied: requests in /usr/local/lib/python3.6/dist-packages (from firebase) (2.23.0)\n",
            "Requirement already satisfied: certifi>=2017.4.17 in /usr/local/lib/python3.6/dist-packages (from requests->firebase) (2020.12.5)\n",
            "Requirement already satisfied: urllib3!=1.25.0,!=1.25.1,<1.26,>=1.21.1 in /usr/local/lib/python3.6/dist-packages (from requests->firebase) (1.24.3)\n",
            "Requirement already satisfied: chardet<4,>=3.0.2 in /usr/local/lib/python3.6/dist-packages (from requests->firebase) (3.0.4)\n",
            "Requirement already satisfied: idna<3,>=2.5 in /usr/local/lib/python3.6/dist-packages (from requests->firebase) (2.10)\n",
            "Installing collected packages: firebase\n",
            "Successfully installed firebase-3.0.1\n"
          ],
          "name": "stdout"
        }
      ]
    },
    {
      "cell_type": "code",
      "metadata": {
        "id": "LocoIVRvin2x"
      },
      "source": [
        "import firebase_admin\r\n",
        "import os\r\n",
        "from firebase_admin import credentials\r\n",
        "from firebase_admin import firestore"
      ],
      "execution_count": 5,
      "outputs": []
    },
    {
      "cell_type": "code",
      "metadata": {
        "colab": {
          "base_uri": "https://localhost:8080/"
        },
        "id": "Q8z0wnLFjv9O",
        "outputId": "334afff0-f61e-49a2-c604-1a58d0d24ea7"
      },
      "source": [
        "cred = credentials.Certificate('fir-121e7-firebase-adminsdk-tlwva-d8c70de0c7.json')\r\n",
        "firebase_admin.initialize_app(cred)"
      ],
      "execution_count": 22,
      "outputs": [
        {
          "output_type": "execute_result",
          "data": {
            "text/plain": [
              "<firebase_admin.App at 0x7fb3a46d1588>"
            ]
          },
          "metadata": {
            "tags": []
          },
          "execution_count": 22
        }
      ]
    },
    {
      "cell_type": "code",
      "metadata": {
        "id": "7Z7pQJ_DqIYe"
      },
      "source": [
        "db = firestore.client()\r\n"
      ],
      "execution_count": 25,
      "outputs": []
    },
    {
      "cell_type": "code",
      "metadata": {
        "colab": {
          "base_uri": "https://localhost:8080/"
        },
        "id": "lFeP8m1SqVkp",
        "outputId": "1f3ccc83-d7c9-4ede-d1d3-ec5bd8cdc227"
      },
      "source": [
        "doc_ref = db.collection(u'users').document(u'abc')\r\n",
        "\r\n",
        "doc_ref.set({\r\n",
        "    u'first': u'Sanju',\r\n",
        "    u'last': u'Sriram',\r\n",
        "    u'born': 2001\r\n",
        "})"
      ],
      "execution_count": 27,
      "outputs": [
        {
          "output_type": "execute_result",
          "data": {
            "text/plain": [
              "update_time {\n",
              "  seconds: 1608393871\n",
              "  nanos: 658342000\n",
              "}"
            ]
          },
          "metadata": {
            "tags": []
          },
          "execution_count": 27
        }
      ]
    },
    {
      "cell_type": "code",
      "metadata": {
        "id": "dD2uhLgCv47u"
      },
      "source": [
        "def enterDataInDB():\r\n",
        "    doc_ref = db.collection(u'Users').document()\r\n",
        "    \r\n",
        "    name = input(\"Enter Name - \")\r\n",
        "    lastName = input(\"Enter Last Name - \")\r\n",
        "    age = int(input(\"Enter Age - \"))\r\n",
        "    \r\n",
        "    dit = {}\r\n",
        "    dit[\"firstName\"] = name\r\n",
        "    dit[\"lastName\"] = lastName\r\n",
        "    dit[\"age\"] = age\r\n",
        "    \r\n",
        "    doc_ref.set(dit)"
      ],
      "execution_count": 32,
      "outputs": []
    },
    {
      "cell_type": "code",
      "metadata": {
        "colab": {
          "base_uri": "https://localhost:8080/"
        },
        "id": "pfTDKjWJwGAn",
        "outputId": "0e7571a0-52e8-4c53-ea8a-07e89fb4aa27"
      },
      "source": [
        "enterDataInDB()"
      ],
      "execution_count": 33,
      "outputs": [
        {
          "output_type": "stream",
          "text": [
            "Enter Name - Sanju\n",
            "Enter Last Name - Sriram\n",
            "Enter Age - 19\n"
          ],
          "name": "stdout"
        }
      ]
    },
    {
      "cell_type": "code",
      "metadata": {
        "colab": {
          "base_uri": "https://localhost:8080/"
        },
        "id": "zLj7NEakwM0u",
        "outputId": "f74147cc-3c2f-46ab-f53b-2bb90fc51b3f"
      },
      "source": [
        "enterDataInDB()"
      ],
      "execution_count": 34,
      "outputs": [
        {
          "output_type": "stream",
          "text": [
            "Enter Name - Thamu\n",
            "Enter Last Name - Thamotaran\n",
            "Enter Age - 23\n"
          ],
          "name": "stdout"
        }
      ]
    },
    {
      "cell_type": "code",
      "metadata": {
        "colab": {
          "base_uri": "https://localhost:8080/"
        },
        "id": "v3i8WPvMw4c4",
        "outputId": "40b6f378-b0a4-4644-9cc2-2232d94399dc"
      },
      "source": [
        "docs = db.collection(u'Users').stream()\r\n",
        "for doc in docs:\r\n",
        "    print(\"ID - \", doc.id)\r\n",
        "    print(\"First Name - \", doc.to_dict().get(\"firstName\"))\r\n",
        "    print(\"Last Name - \", doc.to_dict().get(\"lastName\"))\r\n",
        "    print(\"Age - \", doc.to_dict().get(\"age\") )\r\n",
        "    print(\"---------------\")\r\n",
        "    "
      ],
      "execution_count": 35,
      "outputs": [
        {
          "output_type": "stream",
          "text": [
            "ID -  PWRaKZP9t5zuAfnJWT4L\n",
            "First Name -  Thamu\n",
            "Last Name -  Thamotaran\n",
            "Age -  23\n",
            "---------------\n",
            "ID -  Shm3afI6YZkvciKN62HS\n",
            "First Name -  Sanju\n",
            "Last Name -  Sriram\n",
            "Age -  19\n",
            "---------------\n"
          ],
          "name": "stdout"
        }
      ]
    },
    {
      "cell_type": "code",
      "metadata": {
        "id": "LFObn0fSxKeb"
      },
      "source": [
        "def updateDatainFirebase(uid, updatedAge):\r\n",
        "    doc_ref = db.collection(u'Users').document(uid)\r\n",
        "    doc_ref.update({\"age\":updatedAge})"
      ],
      "execution_count": 36,
      "outputs": []
    },
    {
      "cell_type": "code",
      "metadata": {
        "colab": {
          "base_uri": "https://localhost:8080/"
        },
        "id": "ZfbFvO5NxSRH",
        "outputId": "0340dfe8-4efa-4b97-b708-339eac47cace"
      },
      "source": [
        "updateDatainFirebase(\"Shm3afI6YZkvciKN62HS\", 20)\r\n",
        "updateDatainFirebase(\"PWRaKZP9t5zuAfnJWT4L\", 24)\r\n",
        "docs = db.collection(u'Users').stream()\r\n",
        "for doc in docs:\r\n",
        "    print(\"ID - \", doc.id)\r\n",
        "    print(\"First Name - \", doc.to_dict().get(\"firstName\"))\r\n",
        "    print(\"Last Name - \", doc.to_dict().get(\"lastName\"))\r\n",
        "    print(\"Age - \", doc.to_dict().get(\"age\") )\r\n",
        "    print(\"---------------\")\r\n",
        "    \r\n"
      ],
      "execution_count": 38,
      "outputs": [
        {
          "output_type": "stream",
          "text": [
            "ID -  PWRaKZP9t5zuAfnJWT4L\n",
            "First Name -  Thamu\n",
            "Last Name -  Thamotaran\n",
            "Age -  24\n",
            "---------------\n",
            "ID -  Shm3afI6YZkvciKN62HS\n",
            "First Name -  Sanju\n",
            "Last Name -  Sriram\n",
            "Age -  20\n",
            "---------------\n"
          ],
          "name": "stdout"
        }
      ]
    },
    {
      "cell_type": "code",
      "metadata": {
        "colab": {
          "base_uri": "https://localhost:8080/"
        },
        "id": "rXEyuz8xxpA8",
        "outputId": "e7cc4f14-8dd9-45fc-dd86-5d020da3db5b"
      },
      "source": [
        "def deleteDataInFirebase(uid):\r\n",
        "    db.collection(u'Users').document(uid).delete()\r\n",
        "\r\n",
        "deleteDataInFirebase(\"PWRaKZP9t5zuAfnJWT4L\")\r\n",
        "\r\n",
        "docs = db.collection(u'Users').stream()\r\n",
        "for doc in docs:\r\n",
        "    print(\"ID - \", doc.id)\r\n",
        "    print(\"First Name - \", doc.to_dict().get(\"firstName\"))\r\n",
        "    print(\"Last Name - \", doc.to_dict().get(\"lastName\"))\r\n",
        "    print(\"Age - \", doc.to_dict().get(\"age\") )\r\n",
        "    print(\"---------------\")\r\n",
        "    "
      ],
      "execution_count": 44,
      "outputs": [
        {
          "output_type": "stream",
          "text": [
            "ID -  Shm3afI6YZkvciKN62HS\n",
            "First Name -  Sanju\n",
            "Last Name -  Sriram\n",
            "Age -  20\n",
            "---------------\n"
          ],
          "name": "stdout"
        }
      ]
    }
  ]
}