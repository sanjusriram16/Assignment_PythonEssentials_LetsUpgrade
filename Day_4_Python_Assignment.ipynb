{
  "nbformat": 4,
  "nbformat_minor": 0,
  "metadata": {
    "colab": {
      "name": "Day_4_Python_Assignment.ipynb",
      "provenance": [],
      "authorship_tag": "ABX9TyPbc0iCY0aUvazo3OHsL8rn",
      "include_colab_link": true
    },
    "kernelspec": {
      "name": "python3",
      "display_name": "Python 3"
    }
  },
  "cells": [
    {
      "cell_type": "markdown",
      "metadata": {
        "id": "view-in-github",
        "colab_type": "text"
      },
      "source": [
        "<a href=\"https://colab.research.google.com/github/sanjusriram16/Assignment_PythonEssentials_LetsUpgrade/blob/main/Day_4_Python_Assignment.ipynb\" target=\"_parent\"><img src=\"https://colab.research.google.com/assets/colab-badge.svg\" alt=\"Open In Colab\"/></a>"
      ]
    },
    {
      "cell_type": "markdown",
      "metadata": {
        "id": "zORNKrYGs4TK"
      },
      "source": [
        "Question 1\r\n",
        "Write down a program in Python for Opening a File and Writing \" I Love LetsUpgrade\" And close\r\n",
        "it, and read it back again, and then append some data to it and close it."
      ]
    },
    {
      "cell_type": "code",
      "metadata": {
        "colab": {
          "base_uri": "https://localhost:8080/"
        },
        "id": "E1HUB059r3Sc",
        "outputId": "bc0d63ce-764f-49cd-f05d-439e720aada1"
      },
      "source": [
        "fil = open(\"Hello.txt\", 'w')\r\n",
        "fil.write(\"I Love LetsUpgrade\")\r\n",
        "fil.close()\r\n",
        "fil = open(\"Hello.txt\", 'r')\r\n",
        "content = fil.read()\r\n",
        "fil.close()\r\n",
        "fil = open(\"Hello.txt\", 'a')\r\n",
        "fil.write(\"I Love LetsUpgrade\")\r\n",
        "fil.close()\r\n",
        "print(content)\r\n",
        "\r\n"
      ],
      "execution_count": 5,
      "outputs": [
        {
          "output_type": "stream",
          "text": [
            "I Love LetsUpgrade\n"
          ],
          "name": "stdout"
        }
      ]
    },
    {
      "cell_type": "markdown",
      "metadata": {
        "id": "4MHDcBmqvAX5"
      },
      "source": [
        "Question 2\r\n",
        "Write a function which can return a Factorial of any numbers as INT, given in the argument."
      ]
    },
    {
      "cell_type": "code",
      "metadata": {
        "colab": {
          "base_uri": "https://localhost:8080/"
        },
        "id": "b72m6DqUvDZ0",
        "outputId": "818b83a2-dd0c-4ca8-b580-4a3af0a75ada"
      },
      "source": [
        "def fact(n):\r\n",
        "  if n == 0:\r\n",
        "    return int(1)\r\n",
        "  else:\r\n",
        "    return int(n *fact(n-1))\r\n",
        "fact(5)"
      ],
      "execution_count": 8,
      "outputs": [
        {
          "output_type": "execute_result",
          "data": {
            "text/plain": [
              "120"
            ]
          },
          "metadata": {
            "tags": []
          },
          "execution_count": 8
        }
      ]
    }
  ]
}