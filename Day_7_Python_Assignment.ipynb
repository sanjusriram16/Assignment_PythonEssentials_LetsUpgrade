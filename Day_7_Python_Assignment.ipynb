{
  "nbformat": 4,
  "nbformat_minor": 0,
  "metadata": {
    "colab": {
      "name": "Day_7_Python_Assignment.ipynb",
      "provenance": [],
      "authorship_tag": "ABX9TyNyRDvLponW26PGUkLBaeww",
      "include_colab_link": true
    },
    "kernelspec": {
      "name": "python3",
      "display_name": "Python 3"
    }
  },
  "cells": [
    {
      "cell_type": "markdown",
      "metadata": {
        "id": "view-in-github",
        "colab_type": "text"
      },
      "source": [
        "<a href=\"https://colab.research.google.com/github/sanjusriram16/Assignment_PythonEssentials_LetsUpgrade/blob/main/Day_7_Python_Assignment.ipynb\" target=\"_parent\"><img src=\"https://colab.research.google.com/assets/colab-badge.svg\" alt=\"Open In Colab\"/></a>"
      ]
    },
    {
      "cell_type": "code",
      "metadata": {
        "colab": {
          "base_uri": "https://localhost:8080/"
        },
        "id": "3W0G_9qxeyIE",
        "outputId": "950fb623-39c9-4f45-83e9-9ff83c390cf3"
      },
      "source": [
        "!pip install pytube"
      ],
      "execution_count": 1,
      "outputs": [
        {
          "output_type": "stream",
          "text": [
            "Collecting pytube\n",
            "\u001b[?25l  Downloading https://files.pythonhosted.org/packages/63/2d/5b64e61f34d193b718aa39d322eddd7a17a3cc07f56a4b27b107ea234c02/pytube-10.0.0-py3-none-any.whl (40kB)\n",
            "\r\u001b[K     |████████                        | 10kB 13.8MB/s eta 0:00:01\r\u001b[K     |████████████████                | 20kB 13.8MB/s eta 0:00:01\r\u001b[K     |████████████████████████        | 30kB 10.8MB/s eta 0:00:01\r\u001b[K     |████████████████████████████████| 40kB 3.2MB/s \n",
            "\u001b[?25hRequirement already satisfied: typing-extensions in /usr/local/lib/python3.6/dist-packages (from pytube) (3.7.4.3)\n",
            "Installing collected packages: pytube\n",
            "Successfully installed pytube-10.0.0\n"
          ],
          "name": "stdout"
        }
      ]
    },
    {
      "cell_type": "code",
      "metadata": {
        "colab": {
          "base_uri": "https://localhost:8080/",
          "height": 35
        },
        "id": "YO6nXmNsfGkY",
        "outputId": "f4bf325b-dac2-4307-ee03-e2fce20d7327"
      },
      "source": [
        "from pytube import YouTube\r\n",
        "YouTube('https://www.youtube.com/watch?v=4cdATVG8UbM').streams.first().download()"
      ],
      "execution_count": 2,
      "outputs": [
        {
          "output_type": "execute_result",
          "data": {
            "application/vnd.google.colaboratory.intrinsic+json": {
              "type": "string"
            },
            "text/plain": [
              "'/content/How to Waste 1 Minute of Your Life  TED Talk.mp4'"
            ]
          },
          "metadata": {
            "tags": []
          },
          "execution_count": 2
        }
      ]
    }
  ]
}