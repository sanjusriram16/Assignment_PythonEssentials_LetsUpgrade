{
  "nbformat": 4,
  "nbformat_minor": 0,
  "metadata": {
    "colab": {
      "name": "Day_5_Python_Assignment.ipynb",
      "provenance": [],
      "authorship_tag": "ABX9TyPsoNyG7oZrUaGjEMMkf/vs",
      "include_colab_link": true
    },
    "kernelspec": {
      "name": "python3",
      "display_name": "Python 3"
    }
  },
  "cells": [
    {
      "cell_type": "markdown",
      "metadata": {
        "id": "view-in-github",
        "colab_type": "text"
      },
      "source": [
        "<a href=\"https://colab.research.google.com/github/sanjusriram16/Assignment_PythonEssentials_LetsUpgrade/blob/main/Day_5_Python_Assignment.ipynb\" target=\"_parent\"><img src=\"https://colab.research.google.com/assets/colab-badge.svg\" alt=\"Open In Colab\"/></a>"
      ]
    },
    {
      "cell_type": "code",
      "metadata": {
        "colab": {
          "base_uri": "https://localhost:8080/"
        },
        "id": "oxVN1pYVwNAK",
        "outputId": "dc956e29-94cd-489e-fff2-ef4a7f5d9144"
      },
      "source": [
        "!pip install cryptography"
      ],
      "execution_count": 1,
      "outputs": [
        {
          "output_type": "stream",
          "text": [
            "Collecting cryptography\n",
            "\u001b[?25l  Downloading https://files.pythonhosted.org/packages/c9/de/7054df0620b5411ba45480f0261e1fb66a53f3db31b28e3aa52c026e72d9/cryptography-3.3.1-cp36-abi3-manylinux2010_x86_64.whl (2.6MB)\n",
            "\u001b[K     |████████████████████████████████| 2.6MB 5.9MB/s \n",
            "\u001b[?25hRequirement already satisfied: cffi>=1.12 in /usr/local/lib/python3.6/dist-packages (from cryptography) (1.14.4)\n",
            "Requirement already satisfied: six>=1.4.1 in /usr/local/lib/python3.6/dist-packages (from cryptography) (1.15.0)\n",
            "Requirement already satisfied: pycparser in /usr/local/lib/python3.6/dist-packages (from cffi>=1.12->cryptography) (2.20)\n",
            "Installing collected packages: cryptography\n",
            "Successfully installed cryptography-3.3.1\n"
          ],
          "name": "stdout"
        }
      ]
    },
    {
      "cell_type": "code",
      "metadata": {
        "colab": {
          "base_uri": "https://localhost:8080/"
        },
        "id": "4oM7mEU5w_JZ",
        "outputId": "2ef73b27-6a1f-4961-ec38-c371c83bfc37"
      },
      "source": [
        "from cryptography.fernet import Fernet\r\n",
        "\r\n",
        "def generatePassKey():\r\n",
        "    key = Fernet.generate_key()\r\n",
        "    print(key)\r\n",
        "    cry = open(\"PasswordKey.key\",'wb')\r\n",
        "    cry.write(key)\r\n",
        "    cry.close()\r\n",
        "\r\n",
        "def getMyKey():\r\n",
        "    cry = open(\"PasswordKey.key\",'rb')\r\n",
        "    return cry.read()  \r\n",
        "\r\n",
        "def encryptMessage(messages):\r\n",
        "    key = getMyKey()\r\n",
        "    k = Fernet(key)\r\n",
        "    encrypted= k.encrypt(messages)\r\n",
        "    return encrypted\r\n",
        "\r\n",
        "def decryptMessage(messages):\r\n",
        "    key = getMyKey()\r\n",
        "    k = Fernet(key)\r\n",
        "    decrypted= k.decrypt(messages)\r\n",
        "    return decrypted\r\n",
        "\r\n",
        "def getContentFromUser():\r\n",
        "    return input(\"Enter the Content you want to Encrypt in your python Script : \")\r\n",
        "\r\n",
        "\r\n",
        "\r\n",
        "mes = bytes(input(\"Enter the text to be encrypted: \"), 'utf-8')\r\n",
        "\r\n",
        "mese = encryptMessage(mes)\r\n",
        "\r\n",
        "print(mese)\r\n",
        "\r\n",
        "mesd = decryptMessage(mese)\r\n",
        "\r\n",
        "print(mesd)\r\n"
      ],
      "execution_count": 23,
      "outputs": [
        {
          "output_type": "stream",
          "text": [
            "Enter the text to be encrypted: LetsUpgrade\n",
            "b'gAAAAABf25qHGP-L3x3iRLTe20kKPnVb7UaSTk8H8fI3ld1RdyY4xYm6G03ASEXO_0dTwyk82juwt_xnQ5qp14GUTKY2yWVqSw=='\n",
            "b'LetsUpgrade'\n"
          ],
          "name": "stdout"
        }
      ]
    }
  ]
}